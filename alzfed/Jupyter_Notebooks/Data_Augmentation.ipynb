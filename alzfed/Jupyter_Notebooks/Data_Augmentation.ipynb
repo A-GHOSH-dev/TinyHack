{
  "cells": [
    {
      "cell_type": "markdown",
      "metadata": {
        "colab_type": "text",
        "id": "EU6GKAEEX-GL"
      },
      "source": [
        "# *Data Augmentation*\n"
      ]
    },
    {
      "cell_type": "code",
      "execution_count": null,
      "metadata": {
        "colab": {},
        "colab_type": "code",
        "id": "XkvmfpnZ-WIh"
      },
      "outputs": [],
      "source": [
        "# import the necessary packages\n",
        "from keras.preprocessing.image import ImageDataGenerator\n",
        "from keras_applications.mobilenet_v2 import MobileNetV2, preprocess_input\n",
        "from keras.preprocessing.image import img_to_array\n",
        "from keras.preprocessing.image import load_img\n",
        "import numpy as np\n",
        "import os\n",
        "\n",
        "# load the input image, convert it to a NumPy array, and then\n",
        "# reshape it to have an extra dimension\n",
        "main_path = '/content/drive/Dataset/AD'\n",
        "adni_list = os.listdir(main_path)\n",
        "for infile in adni_list:\n",
        "  print('Next image...',infile)\n",
        "  image = load_img(os.path.join(main_path+'/'+infile))\n",
        "  image = img_to_array(image)\n",
        "  image = np.expand_dims(image, axis=0)\n",
        "  # construct the image generator for data augmentation then\n",
        "  # initialize the total number of images generated thus far\n",
        "  aug = ImageDataGenerator(\n",
        "      preprocessing_function=preprocess_input,\n",
        "      zoom_range=0.05,\n",
        "      width_shift_range=0.05,\n",
        "      height_shift_range=0.05,\n",
        "      shear_range=0.05,\n",
        "      horizontal_flip=True,\n",
        "      fill_mode=\"nearest\")\n",
        "  \n",
        "  total = 0\n",
        "  # construct the actual Python generator\n",
        "  print(\"[INFO] generating images...\")\n",
        "  imageGen = aug.flow(image,batch_size=1, save_to_dir='directory_in_which_augmented_images_are_saved',\n",
        "\tsave_prefix=\"recent_augmented_\", save_format=\"png\")\n",
        "  # loop over examples from our image data augmentation generator\n",
        "  for image in imageGen:\n",
        "    # increment our counter\n",
        "    total += 1\n",
        "    # if we have reached the specified number of examples, break\n",
        "    # from the loop\n",
        "    if total == 5:\n",
        "      print('This loop done')\n",
        "      break"
      ]
    }
  ],
  "metadata": {
    "accelerator": "GPU",
    "colab": {
      "collapsed_sections": [
        "KdJabe44AgXB"
      ],
      "name": "Data Augmentation",
      "provenance": []
    },
    "kernelspec": {
      "display_name": "Python 3",
      "language": "python",
      "name": "python3"
    },
    "language_info": {
      "name": "python",
      "version": "3.8.10 (default, May 19 2021, 13:12:57) [MSC v.1916 64 bit (AMD64)]"
    },
    "vscode": {
      "interpreter": {
        "hash": "c2d41119454a5ea8cec8ae7071e5a51e97cbd7fb7f04e3afd6db6502058cec47"
      }
    }
  },
  "nbformat": 4,
  "nbformat_minor": 0
}
